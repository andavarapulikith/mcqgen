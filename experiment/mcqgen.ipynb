{
 "cells": [
  {
   "cell_type": "code",
   "execution_count": 35,
   "metadata": {},
   "outputs": [],
   "source": [
    "import os\n",
    "import json\n",
    "import pandas as pd\n",
    "import traceback"
   ]
  },
  {
   "cell_type": "code",
   "execution_count": 36,
   "metadata": {},
   "outputs": [],
   "source": [
    "from langchain.chat_models import ChatOpenAI"
   ]
  },
  {
   "cell_type": "code",
   "execution_count": 37,
   "metadata": {},
   "outputs": [
    {
     "data": {
      "text/plain": [
       "True"
      ]
     },
     "execution_count": 37,
     "metadata": {},
     "output_type": "execute_result"
    }
   ],
   "source": [
    "from dotenv import load_dotenv\n",
    "load_dotenv()"
   ]
  },
  {
   "cell_type": "code",
   "execution_count": 38,
   "metadata": {},
   "outputs": [],
   "source": [
    "api_key=os.getenv(\"OPENAI_API_KEY\")"
   ]
  },
  {
   "cell_type": "code",
   "execution_count": 39,
   "metadata": {},
   "outputs": [],
   "source": [
    "llm=ChatOpenAI(openai_api_key=api_key,model_name=\"gpt-3.5-turbo\", temperature=0.5)"
   ]
  },
  {
   "cell_type": "code",
   "execution_count": 40,
   "metadata": {},
   "outputs": [],
   "source": [
    "from langchain.llms import OpenAI\n",
    "from langchain.prompts import PromptTemplate\n",
    "from langchain.chains import LLMChain\n",
    "from langchain.chains import SequentialChain\n",
    "from langchain.callbacks import get_openai_callback\n",
    "import PyPDF2"
   ]
  },
  {
   "cell_type": "code",
   "execution_count": 41,
   "metadata": {},
   "outputs": [],
   "source": [
    "from langchain import PromptTemplate, HuggingFaceHub, LLMChain"
   ]
  },
  {
   "cell_type": "code",
   "execution_count": 42,
   "metadata": {},
   "outputs": [],
   "source": [
    "RESPONSE_JSON = {\n",
    "    \"1\": {\n",
    "        \"mcq\": \"multiple choice question\",\n",
    "        \"options\": {\n",
    "            \"a\": \"choice here\",\n",
    "            \"b\": \"choice here\",\n",
    "            \"c\": \"choice here\",\n",
    "            \"d\": \"choice here\",\n",
    "        },\n",
    "        \"correct\": \"correct answer\",\n",
    "    },\n",
    "    \"2\": {\n",
    "        \"mcq\": \"multiple choice question\",\n",
    "        \"options\": {\n",
    "            \"a\": \"choice here\",\n",
    "            \"b\": \"choice here\",\n",
    "            \"c\": \"choice here\",\n",
    "            \"d\": \"choice here\",\n",
    "        },\n",
    "        \"correct\": \"correct answer\",\n",
    "    },\n",
    "    \"3\": {\n",
    "        \"mcq\": \"multiple choice question\",\n",
    "        \"options\": {\n",
    "            \"a\": \"choice here\",\n",
    "            \"b\": \"choice here\",\n",
    "            \"c\": \"choice here\",\n",
    "            \"d\": \"choice here\",\n",
    "        },\n",
    "        \"correct\": \"correct answer\",\n",
    "    },\n",
    "}"
   ]
  },
  {
   "cell_type": "code",
   "execution_count": 43,
   "metadata": {},
   "outputs": [],
   "source": [
    "TEMPLATE=\"\"\"\n",
    "Text:{text}\n",
    "You are an expert MCQ maker. Given the above text, it is your job to \\\n",
    "create a quiz  of {number} multiple choice questions for {subject} students in {tone} tone. \n",
    "Make sure the questions are not repeated and check all the questions to be conforming the text as well.\n",
    "Make sure to format your response like  RESPONSE_JSON below  and use it as a guide. \\\n",
    "Ensure to make {number} MCQs\n",
    "### RESPONSE_JSON\n",
    "{response_json}\n",
    "\n",
    "\"\"\""
   ]
  },
  {
   "cell_type": "code",
   "execution_count": 44,
   "metadata": {},
   "outputs": [],
   "source": [
    "quiz_generation_prompt = PromptTemplate(\n",
    "    input_variables=[\"text\", \"number\", \"subject\", \"tone\", \"response_json\"],\n",
    "    template=TEMPLATE\n",
    "    )"
   ]
  },
  {
   "cell_type": "code",
   "execution_count": 45,
   "metadata": {},
   "outputs": [],
   "source": [
    "quiz_chain=LLMChain(llm=llm, prompt=quiz_generation_prompt, output_key=\"quiz\", verbose=True)"
   ]
  },
  {
   "cell_type": "code",
   "execution_count": 46,
   "metadata": {},
   "outputs": [],
   "source": [
    "TEMPLATE2=\"\"\"\n",
    "You are an expert english grammarian and writer. Given a Multiple Choice Quiz for {subject} students.\\\n",
    "You need to evaluate the complexity of the question and give a complete analysis of the quiz. Only use at max 50 words for complexity analysis. \n",
    "if the quiz is not at per with the cognitive and analytical abilities of the students,\\\n",
    "update the quiz questions which needs to be changed and change the tone such that it perfectly fits the student abilities\n",
    "Quiz_MCQs:\n",
    "{quiz}\n",
    "\n",
    "Check from an expert English Writer of the above quiz:\n",
    "\"\"\""
   ]
  },
  {
   "cell_type": "code",
   "execution_count": 47,
   "metadata": {},
   "outputs": [],
   "source": [
    "quiz_evaluation_prompt=PromptTemplate(input_variables=[\"subject\", \"quiz\"], template=TEMPLATE)"
   ]
  },
  {
   "cell_type": "code",
   "execution_count": 48,
   "metadata": {},
   "outputs": [],
   "source": [
    "review_chain=LLMChain(llm=llm, prompt=quiz_evaluation_prompt, output_key=\"review\", verbose=True)"
   ]
  },
  {
   "cell_type": "code",
   "execution_count": 49,
   "metadata": {},
   "outputs": [],
   "source": [
    "generate_evaluate_chain=SequentialChain(chains=[quiz_chain, review_chain], input_variables=[\"text\", \"number\", \"subject\", \"tone\", \"response_json\"],\n",
    "                                        output_variables=[\"quiz\", \"review\"], verbose=True,)"
   ]
  },
  {
   "cell_type": "code",
   "execution_count": 50,
   "metadata": {},
   "outputs": [],
   "source": [
    "file_path=r\"C:\\Users\\likit\\mcqgen\\data.txt\""
   ]
  },
  {
   "cell_type": "code",
   "execution_count": 51,
   "metadata": {},
   "outputs": [],
   "source": [
    "with open(file_path, 'r') as file:\n",
    "    TEXT = file.read()"
   ]
  },
  {
   "cell_type": "code",
   "execution_count": 52,
   "metadata": {},
   "outputs": [
    {
     "name": "stdout",
     "output_type": "stream",
     "text": [
      "\n"
     ]
    }
   ],
   "source": [
    "print(TEXT)\n",
    "TEXT='''Cellular Respiration in Eukaryotic Cells\n",
    "Cellular respiration is a set of metabolic processes that occur within cells to convert biochemical energy from nutrients into adenosine triphosphate (ATP), and then release waste products. It is a critical process for the survival of eukaryotic cells, encompassing a series of reactions that are classified into three main stages: glycolysis, the citric acid cycle (Krebs cycle), and oxidative phosphorylation.\n",
    "\n",
    "Glycolysis\n",
    "Glycolysis is the first step in the breakdown of glucose to extract energy for cellular metabolism. This process takes place in the cytoplasm and involves the conversion of one molecule of glucose (a six-carbon compound) into two molecules of pyruvate (a three-carbon compound). Glycolysis can be divided into two phases:\n",
    "\n",
    "Energy Investment Phase: Involves the expenditure of two ATP molecules to phosphorylate glucose and its intermediates.\n",
    "Energy Payoff Phase: Produces four ATP molecules and two NADH molecules by substrate-level phosphorylation.\n",
    "The net gain from glycolysis is two ATP molecules and two NADH molecules per glucose molecule.\n",
    "\n",
    "Citric Acid Cycle (Krebs Cycle)\n",
    "The pyruvate molecules produced in glycolysis are transported into the mitochondria, where they are converted into acetyl-CoA. The acetyl-CoA then enters the citric acid cycle, a series of enzyme-catalyzed chemical reactions that are crucial for the cellular metabolic process. The main functions of the citric acid cycle include:\n",
    "\n",
    "The complete oxidation of acetyl-CoA to carbon dioxide.\n",
    "The reduction of NAD+ and FAD to NADH and FADH2.\n",
    "The production of one ATP (or GTP) per cycle through substrate-level phosphorylation.\n",
    "The citric acid cycle generates three NADH and one FADH2 per acetyl-CoA molecule, which will be used in the next stage for ATP production.'''"
   ]
  },
  {
   "cell_type": "code",
   "execution_count": 53,
   "metadata": {},
   "outputs": [
    {
     "data": {
      "text/plain": [
       "'{\"1\": {\"mcq\": \"multiple choice question\", \"options\": {\"a\": \"choice here\", \"b\": \"choice here\", \"c\": \"choice here\", \"d\": \"choice here\"}, \"correct\": \"correct answer\"}, \"2\": {\"mcq\": \"multiple choice question\", \"options\": {\"a\": \"choice here\", \"b\": \"choice here\", \"c\": \"choice here\", \"d\": \"choice here\"}, \"correct\": \"correct answer\"}, \"3\": {\"mcq\": \"multiple choice question\", \"options\": {\"a\": \"choice here\", \"b\": \"choice here\", \"c\": \"choice here\", \"d\": \"choice here\"}, \"correct\": \"correct answer\"}}'"
      ]
     },
     "execution_count": 53,
     "metadata": {},
     "output_type": "execute_result"
    }
   ],
   "source": [
    "json.dumps(RESPONSE_JSON)"
   ]
  },
  {
   "cell_type": "code",
   "execution_count": 54,
   "metadata": {},
   "outputs": [],
   "source": [
    "NUMBER=5 \n",
    "SUBJECT=\"biology\"\n",
    "TONE=\"simple\""
   ]
  },
  {
   "cell_type": "code",
   "execution_count": 55,
   "metadata": {},
   "outputs": [
    {
     "name": "stdout",
     "output_type": "stream",
     "text": [
      "\n",
      "\n",
      "\u001b[1m> Entering new SequentialChain chain...\u001b[0m\n",
      "\n",
      "\n",
      "\u001b[1m> Entering new LLMChain chain...\u001b[0m\n",
      "Prompt after formatting:\n",
      "\u001b[32;1m\u001b[1;3m\n",
      "Text:Cellular Respiration in Eukaryotic Cells\n",
      "Cellular respiration is a set of metabolic processes that occur within cells to convert biochemical energy from nutrients into adenosine triphosphate (ATP), and then release waste products. It is a critical process for the survival of eukaryotic cells, encompassing a series of reactions that are classified into three main stages: glycolysis, the citric acid cycle (Krebs cycle), and oxidative phosphorylation.\n",
      "\n",
      "Glycolysis\n",
      "Glycolysis is the first step in the breakdown of glucose to extract energy for cellular metabolism. This process takes place in the cytoplasm and involves the conversion of one molecule of glucose (a six-carbon compound) into two molecules of pyruvate (a three-carbon compound). Glycolysis can be divided into two phases:\n",
      "\n",
      "Energy Investment Phase: Involves the expenditure of two ATP molecules to phosphorylate glucose and its intermediates.\n",
      "Energy Payoff Phase: Produces four ATP molecules and two NADH molecules by substrate-level phosphorylation.\n",
      "The net gain from glycolysis is two ATP molecules and two NADH molecules per glucose molecule.\n",
      "\n",
      "Citric Acid Cycle (Krebs Cycle)\n",
      "The pyruvate molecules produced in glycolysis are transported into the mitochondria, where they are converted into acetyl-CoA. The acetyl-CoA then enters the citric acid cycle, a series of enzyme-catalyzed chemical reactions that are crucial for the cellular metabolic process. The main functions of the citric acid cycle include:\n",
      "\n",
      "The complete oxidation of acetyl-CoA to carbon dioxide.\n",
      "The reduction of NAD+ and FAD to NADH and FADH2.\n",
      "The production of one ATP (or GTP) per cycle through substrate-level phosphorylation.\n",
      "The citric acid cycle generates three NADH and one FADH2 per acetyl-CoA molecule, which will be used in the next stage for ATP production.\n",
      "You are an expert MCQ maker. Given the above text, it is your job to create a quiz  of 5 multiple choice questions for biology students in simple tone. \n",
      "Make sure the questions are not repeated and check all the questions to be conforming the text as well.\n",
      "Make sure to format your response like  RESPONSE_JSON below  and use it as a guide. Ensure to make 5 MCQs\n",
      "### RESPONSE_JSON\n",
      "{\"1\": {\"mcq\": \"multiple choice question\", \"options\": {\"a\": \"choice here\", \"b\": \"choice here\", \"c\": \"choice here\", \"d\": \"choice here\"}, \"correct\": \"correct answer\"}, \"2\": {\"mcq\": \"multiple choice question\", \"options\": {\"a\": \"choice here\", \"b\": \"choice here\", \"c\": \"choice here\", \"d\": \"choice here\"}, \"correct\": \"correct answer\"}, \"3\": {\"mcq\": \"multiple choice question\", \"options\": {\"a\": \"choice here\", \"b\": \"choice here\", \"c\": \"choice here\", \"d\": \"choice here\"}, \"correct\": \"correct answer\"}}\n",
      "\n",
      "\u001b[0m\n",
      "\n",
      "\u001b[1m> Finished chain.\u001b[0m\n",
      "\n",
      "\n",
      "\u001b[1m> Entering new LLMChain chain...\u001b[0m\n",
      "Prompt after formatting:\n",
      "\u001b[32;1m\u001b[1;3m\n",
      "Text:Cellular Respiration in Eukaryotic Cells\n",
      "Cellular respiration is a set of metabolic processes that occur within cells to convert biochemical energy from nutrients into adenosine triphosphate (ATP), and then release waste products. It is a critical process for the survival of eukaryotic cells, encompassing a series of reactions that are classified into three main stages: glycolysis, the citric acid cycle (Krebs cycle), and oxidative phosphorylation.\n",
      "\n",
      "Glycolysis\n",
      "Glycolysis is the first step in the breakdown of glucose to extract energy for cellular metabolism. This process takes place in the cytoplasm and involves the conversion of one molecule of glucose (a six-carbon compound) into two molecules of pyruvate (a three-carbon compound). Glycolysis can be divided into two phases:\n",
      "\n",
      "Energy Investment Phase: Involves the expenditure of two ATP molecules to phosphorylate glucose and its intermediates.\n",
      "Energy Payoff Phase: Produces four ATP molecules and two NADH molecules by substrate-level phosphorylation.\n",
      "The net gain from glycolysis is two ATP molecules and two NADH molecules per glucose molecule.\n",
      "\n",
      "Citric Acid Cycle (Krebs Cycle)\n",
      "The pyruvate molecules produced in glycolysis are transported into the mitochondria, where they are converted into acetyl-CoA. The acetyl-CoA then enters the citric acid cycle, a series of enzyme-catalyzed chemical reactions that are crucial for the cellular metabolic process. The main functions of the citric acid cycle include:\n",
      "\n",
      "The complete oxidation of acetyl-CoA to carbon dioxide.\n",
      "The reduction of NAD+ and FAD to NADH and FADH2.\n",
      "The production of one ATP (or GTP) per cycle through substrate-level phosphorylation.\n",
      "The citric acid cycle generates three NADH and one FADH2 per acetyl-CoA molecule, which will be used in the next stage for ATP production.\n",
      "You are an expert MCQ maker. Given the above text, it is your job to create a quiz  of 5 multiple choice questions for biology students in simple tone. \n",
      "Make sure the questions are not repeated and check all the questions to be conforming the text as well.\n",
      "Make sure to format your response like  RESPONSE_JSON below  and use it as a guide. Ensure to make 5 MCQs\n",
      "### RESPONSE_JSON\n",
      "{\"1\": {\"mcq\": \"multiple choice question\", \"options\": {\"a\": \"choice here\", \"b\": \"choice here\", \"c\": \"choice here\", \"d\": \"choice here\"}, \"correct\": \"correct answer\"}, \"2\": {\"mcq\": \"multiple choice question\", \"options\": {\"a\": \"choice here\", \"b\": \"choice here\", \"c\": \"choice here\", \"d\": \"choice here\"}, \"correct\": \"correct answer\"}, \"3\": {\"mcq\": \"multiple choice question\", \"options\": {\"a\": \"choice here\", \"b\": \"choice here\", \"c\": \"choice here\", \"d\": \"choice here\"}, \"correct\": \"correct answer\"}}\n",
      "\n",
      "\u001b[0m\n",
      "\n",
      "\u001b[1m> Finished chain.\u001b[0m\n",
      "\n",
      "\u001b[1m> Finished chain.\u001b[0m\n"
     ]
    }
   ],
   "source": [
    "with get_openai_callback() as cb:\n",
    "    response=generate_evaluate_chain(\n",
    "        {\n",
    "            \"text\": TEXT,\n",
    "            \"number\": NUMBER,\n",
    "            \"subject\":SUBJECT,\n",
    "            \"tone\": TONE,\n",
    "            \"response_json\": json.dumps(RESPONSE_JSON)\n",
    "        }\n",
    "        )"
   ]
  },
  {
   "cell_type": "code",
   "execution_count": 61,
   "metadata": {},
   "outputs": [
    {
     "name": "stdout",
     "output_type": "stream",
     "text": [
      "Total Tokens:2018\n",
      "Prompt Tokens:1304\n",
      "Completion Tokens:714\n",
      "Total Cost:0.0033840000000000003\n"
     ]
    }
   ],
   "source": [
    "print(f\"Total Tokens:{cb.total_tokens}\")\n",
    "print(f\"Prompt Tokens:{cb.prompt_tokens}\")\n",
    "print(f\"Completion Tokens:{cb.completion_tokens}\")\n",
    "print(f\"Total Cost:{cb.total_cost}\")"
   ]
  },
  {
   "cell_type": "code",
   "execution_count": 62,
   "metadata": {},
   "outputs": [
    {
     "data": {
      "text/plain": [
       "{'text': 'Cellular Respiration in Eukaryotic Cells\\nCellular respiration is a set of metabolic processes that occur within cells to convert biochemical energy from nutrients into adenosine triphosphate (ATP), and then release waste products. It is a critical process for the survival of eukaryotic cells, encompassing a series of reactions that are classified into three main stages: glycolysis, the citric acid cycle (Krebs cycle), and oxidative phosphorylation.\\n\\nGlycolysis\\nGlycolysis is the first step in the breakdown of glucose to extract energy for cellular metabolism. This process takes place in the cytoplasm and involves the conversion of one molecule of glucose (a six-carbon compound) into two molecules of pyruvate (a three-carbon compound). Glycolysis can be divided into two phases:\\n\\nEnergy Investment Phase: Involves the expenditure of two ATP molecules to phosphorylate glucose and its intermediates.\\nEnergy Payoff Phase: Produces four ATP molecules and two NADH molecules by substrate-level phosphorylation.\\nThe net gain from glycolysis is two ATP molecules and two NADH molecules per glucose molecule.\\n\\nCitric Acid Cycle (Krebs Cycle)\\nThe pyruvate molecules produced in glycolysis are transported into the mitochondria, where they are converted into acetyl-CoA. The acetyl-CoA then enters the citric acid cycle, a series of enzyme-catalyzed chemical reactions that are crucial for the cellular metabolic process. The main functions of the citric acid cycle include:\\n\\nThe complete oxidation of acetyl-CoA to carbon dioxide.\\nThe reduction of NAD+ and FAD to NADH and FADH2.\\nThe production of one ATP (or GTP) per cycle through substrate-level phosphorylation.\\nThe citric acid cycle generates three NADH and one FADH2 per acetyl-CoA molecule, which will be used in the next stage for ATP production.',\n",
       " 'number': 5,\n",
       " 'subject': 'biology',\n",
       " 'tone': 'simple',\n",
       " 'response_json': '{\"1\": {\"mcq\": \"multiple choice question\", \"options\": {\"a\": \"choice here\", \"b\": \"choice here\", \"c\": \"choice here\", \"d\": \"choice here\"}, \"correct\": \"correct answer\"}, \"2\": {\"mcq\": \"multiple choice question\", \"options\": {\"a\": \"choice here\", \"b\": \"choice here\", \"c\": \"choice here\", \"d\": \"choice here\"}, \"correct\": \"correct answer\"}, \"3\": {\"mcq\": \"multiple choice question\", \"options\": {\"a\": \"choice here\", \"b\": \"choice here\", \"c\": \"choice here\", \"d\": \"choice here\"}, \"correct\": \"correct answer\"}}',\n",
       " 'quiz': '\\n{\\n\"1\": {\\n\"mcq\": \"Which stage of cellular respiration involves the conversion of glucose into pyruvate?\",\\n\"options\": {\\n\"a\": \"Glycolysis\",\\n\"b\": \"Citric Acid Cycle\",\\n\"c\": \"Oxidative Phosphorylation\",\\n\"d\": \"Krebs Cycle\"\\n},\\n\"correct\": \"a\"\\n},\\n\"2\": {\\n\"mcq\": \"Where does glycolysis take place within the cell?\",\\n\"options\": {\\n\"a\": \"Mitochondria\",\\n\"b\": \"Nucleus\",\\n\"c\": \"Cytoplasm\",\\n\"d\": \"Endoplasmic Reticulum\"\\n},\\n\"correct\": \"c\"\\n},\\n\"3\": {\\n\"mcq\": \"Which phase of glycolysis involves the expenditure of ATP molecules?\",\\n\"options\": {\\n\"a\": \"Energy Investment Phase\",\\n\"b\": \"Energy Payoff Phase\",\\n\"c\": \"Citric Acid Phase\",\\n\"d\": \"Oxidative Phase\"\\n},\\n\"correct\": \"a\"\\n},\\n\"4\": {\\n\"mcq\": \"What is the main function of the citric acid cycle?\",\\n\"options\": {\\n\"a\": \"Conversion of glucose to pyruvate\",\\n\"b\": \"Production of ATP through oxidative phosphorylation\",\\n\"c\": \"Complete oxidation of acetyl-CoA to carbon dioxide\",\\n\"d\": \"Transportation of pyruvate into the mitochondria\"\\n},\\n\"correct\": \"c\"\\n},\\n\"5\": {\\n\"mcq\": \"How many NADH molecules are generated per acetyl-CoA molecule in the citric acid cycle?\",\\n\"options\": {\\n\"a\": \"One\",\\n\"b\": \"Two\",\\n\"c\": \"Three\",\\n\"d\": \"Four\"\\n},\\n\"correct\": \"c\"\\n}\\n}',\n",
       " 'review': '\\n{\\n\"1\": {\\n\"mcq\": \"Which stage of cellular respiration involves the conversion of glucose into pyruvate?\",\\n\"options\": {\"a\": \"Glycolysis\", \"b\": \"Citric Acid Cycle\", \"c\": \"Oxidative Phosphorylation\", \"d\": \"Krebs Cycle\"},\\n\"correct\": \"a\"\\n},\\n\"2\": {\\n\"mcq\": \"Where does glycolysis take place within the cell?\",\\n\"options\": {\"a\": \"Mitochondria\", \"b\": \"Nucleus\", \"c\": \"Cytoplasm\", \"d\": \"Endoplasmic Reticulum\"},\\n\"correct\": \"c\"\\n},\\n\"3\": {\\n\"mcq\": \"What is the main function of the citric acid cycle?\",\\n\"options\": {\"a\": \"Convert acetyl-CoA to glucose\", \"b\": \"Produce ATP through oxidative phosphorylation\", \"c\": \"Oxidize acetyl-CoA to carbon dioxide\", \"d\": \"Convert pyruvate to lactate\"},\\n\"correct\": \"c\"\\n},\\n\"4\": {\\n\"mcq\": \"How many ATP molecules are produced in the energy payoff phase of glycolysis?\",\\n\"options\": {\"a\": \"2 ATP\", \"b\": \"4 ATP\", \"c\": \"6 ATP\", \"d\": \"8 ATP\"},\\n\"correct\": \"b\"\\n},\\n\"5\": {\\n\"mcq\": \"What is the net gain of ATP molecules from glycolysis per glucose molecule?\",\\n\"options\": {\"a\": \"0 ATP\", \"b\": \"2 ATP\", \"c\": \"4 ATP\", \"d\": \"6 ATP\"},\\n\"correct\": \"b\"\\n}\\n}'}"
      ]
     },
     "execution_count": 62,
     "metadata": {},
     "output_type": "execute_result"
    }
   ],
   "source": [
    "response"
   ]
  },
  {
   "cell_type": "code",
   "execution_count": 63,
   "metadata": {},
   "outputs": [],
   "source": [
    "quiz=response.get(\"quiz\")"
   ]
  },
  {
   "cell_type": "code",
   "execution_count": 64,
   "metadata": {},
   "outputs": [],
   "source": [
    "quiz=json.loads(quiz)"
   ]
  },
  {
   "cell_type": "code",
   "execution_count": 65,
   "metadata": {},
   "outputs": [],
   "source": [
    "quiz_table_data = []\n",
    "for key, value in quiz.items():\n",
    "    mcq = value[\"mcq\"]\n",
    "    options = \" | \".join(\n",
    "        [\n",
    "            f\"{option}: {option_value}\"\n",
    "            for option, option_value in value[\"options\"].items()\n",
    "            ]\n",
    "        )\n",
    "    correct = value[\"correct\"]\n",
    "    quiz_table_data.append({\"MCQ\": mcq, \"Choices\": options, \"Correct\": correct})"
   ]
  },
  {
   "cell_type": "code",
   "execution_count": 66,
   "metadata": {},
   "outputs": [
    {
     "data": {
      "text/plain": [
       "[{'MCQ': 'Which stage of cellular respiration involves the conversion of glucose into pyruvate?',\n",
       "  'Choices': 'a: Glycolysis | b: Citric Acid Cycle | c: Oxidative Phosphorylation | d: Krebs Cycle',\n",
       "  'Correct': 'a'},\n",
       " {'MCQ': 'Where does glycolysis take place within the cell?',\n",
       "  'Choices': 'a: Mitochondria | b: Nucleus | c: Cytoplasm | d: Endoplasmic Reticulum',\n",
       "  'Correct': 'c'},\n",
       " {'MCQ': 'Which phase of glycolysis involves the expenditure of ATP molecules?',\n",
       "  'Choices': 'a: Energy Investment Phase | b: Energy Payoff Phase | c: Citric Acid Phase | d: Oxidative Phase',\n",
       "  'Correct': 'a'},\n",
       " {'MCQ': 'What is the main function of the citric acid cycle?',\n",
       "  'Choices': 'a: Conversion of glucose to pyruvate | b: Production of ATP through oxidative phosphorylation | c: Complete oxidation of acetyl-CoA to carbon dioxide | d: Transportation of pyruvate into the mitochondria',\n",
       "  'Correct': 'c'},\n",
       " {'MCQ': 'How many NADH molecules are generated per acetyl-CoA molecule in the citric acid cycle?',\n",
       "  'Choices': 'a: One | b: Two | c: Three | d: Four',\n",
       "  'Correct': 'c'}]"
      ]
     },
     "execution_count": 66,
     "metadata": {},
     "output_type": "execute_result"
    }
   ],
   "source": [
    "quiz_table_data"
   ]
  },
  {
   "cell_type": "code",
   "execution_count": 32,
   "metadata": {},
   "outputs": [],
   "source": [
    "quiz=pd.DataFrame(quiz_table_data)"
   ]
  },
  {
   "cell_type": "code",
   "execution_count": 33,
   "metadata": {},
   "outputs": [],
   "source": [
    "quiz.to_csv(\"machinelearning.csv\",index=False)"
   ]
  },
  {
   "cell_type": "code",
   "execution_count": 34,
   "metadata": {},
   "outputs": [
    {
     "data": {
      "text/plain": [
       "'05_31_2024_14_11_52'"
      ]
     },
     "execution_count": 34,
     "metadata": {},
     "output_type": "execute_result"
    }
   ],
   "source": [
    "from datetime import datetime\n",
    "datetime.now().strftime('%m_%d_%Y_%H_%M_%S')"
   ]
  },
  {
   "cell_type": "code",
   "execution_count": 67,
   "metadata": {},
   "outputs": [
    {
     "data": {
      "text/plain": [
       "{'text': 'Cellular Respiration in Eukaryotic Cells\\nCellular respiration is a set of metabolic processes that occur within cells to convert biochemical energy from nutrients into adenosine triphosphate (ATP), and then release waste products. It is a critical process for the survival of eukaryotic cells, encompassing a series of reactions that are classified into three main stages: glycolysis, the citric acid cycle (Krebs cycle), and oxidative phosphorylation.\\n\\nGlycolysis\\nGlycolysis is the first step in the breakdown of glucose to extract energy for cellular metabolism. This process takes place in the cytoplasm and involves the conversion of one molecule of glucose (a six-carbon compound) into two molecules of pyruvate (a three-carbon compound). Glycolysis can be divided into two phases:\\n\\nEnergy Investment Phase: Involves the expenditure of two ATP molecules to phosphorylate glucose and its intermediates.\\nEnergy Payoff Phase: Produces four ATP molecules and two NADH molecules by substrate-level phosphorylation.\\nThe net gain from glycolysis is two ATP molecules and two NADH molecules per glucose molecule.\\n\\nCitric Acid Cycle (Krebs Cycle)\\nThe pyruvate molecules produced in glycolysis are transported into the mitochondria, where they are converted into acetyl-CoA. The acetyl-CoA then enters the citric acid cycle, a series of enzyme-catalyzed chemical reactions that are crucial for the cellular metabolic process. The main functions of the citric acid cycle include:\\n\\nThe complete oxidation of acetyl-CoA to carbon dioxide.\\nThe reduction of NAD+ and FAD to NADH and FADH2.\\nThe production of one ATP (or GTP) per cycle through substrate-level phosphorylation.\\nThe citric acid cycle generates three NADH and one FADH2 per acetyl-CoA molecule, which will be used in the next stage for ATP production.',\n",
       " 'number': 5,\n",
       " 'subject': 'biology',\n",
       " 'tone': 'simple',\n",
       " 'response_json': '{\"1\": {\"mcq\": \"multiple choice question\", \"options\": {\"a\": \"choice here\", \"b\": \"choice here\", \"c\": \"choice here\", \"d\": \"choice here\"}, \"correct\": \"correct answer\"}, \"2\": {\"mcq\": \"multiple choice question\", \"options\": {\"a\": \"choice here\", \"b\": \"choice here\", \"c\": \"choice here\", \"d\": \"choice here\"}, \"correct\": \"correct answer\"}, \"3\": {\"mcq\": \"multiple choice question\", \"options\": {\"a\": \"choice here\", \"b\": \"choice here\", \"c\": \"choice here\", \"d\": \"choice here\"}, \"correct\": \"correct answer\"}}',\n",
       " 'quiz': '\\n{\\n\"1\": {\\n\"mcq\": \"Which stage of cellular respiration involves the conversion of glucose into pyruvate?\",\\n\"options\": {\\n\"a\": \"Glycolysis\",\\n\"b\": \"Citric Acid Cycle\",\\n\"c\": \"Oxidative Phosphorylation\",\\n\"d\": \"Krebs Cycle\"\\n},\\n\"correct\": \"a\"\\n},\\n\"2\": {\\n\"mcq\": \"Where does glycolysis take place within the cell?\",\\n\"options\": {\\n\"a\": \"Mitochondria\",\\n\"b\": \"Nucleus\",\\n\"c\": \"Cytoplasm\",\\n\"d\": \"Endoplasmic Reticulum\"\\n},\\n\"correct\": \"c\"\\n},\\n\"3\": {\\n\"mcq\": \"Which phase of glycolysis involves the expenditure of ATP molecules?\",\\n\"options\": {\\n\"a\": \"Energy Investment Phase\",\\n\"b\": \"Energy Payoff Phase\",\\n\"c\": \"Citric Acid Phase\",\\n\"d\": \"Oxidative Phase\"\\n},\\n\"correct\": \"a\"\\n},\\n\"4\": {\\n\"mcq\": \"What is the main function of the citric acid cycle?\",\\n\"options\": {\\n\"a\": \"Conversion of glucose to pyruvate\",\\n\"b\": \"Production of ATP through oxidative phosphorylation\",\\n\"c\": \"Complete oxidation of acetyl-CoA to carbon dioxide\",\\n\"d\": \"Transportation of pyruvate into the mitochondria\"\\n},\\n\"correct\": \"c\"\\n},\\n\"5\": {\\n\"mcq\": \"How many NADH molecules are generated per acetyl-CoA molecule in the citric acid cycle?\",\\n\"options\": {\\n\"a\": \"One\",\\n\"b\": \"Two\",\\n\"c\": \"Three\",\\n\"d\": \"Four\"\\n},\\n\"correct\": \"c\"\\n}\\n}',\n",
       " 'review': '\\n{\\n\"1\": {\\n\"mcq\": \"Which stage of cellular respiration involves the conversion of glucose into pyruvate?\",\\n\"options\": {\"a\": \"Glycolysis\", \"b\": \"Citric Acid Cycle\", \"c\": \"Oxidative Phosphorylation\", \"d\": \"Krebs Cycle\"},\\n\"correct\": \"a\"\\n},\\n\"2\": {\\n\"mcq\": \"Where does glycolysis take place within the cell?\",\\n\"options\": {\"a\": \"Mitochondria\", \"b\": \"Nucleus\", \"c\": \"Cytoplasm\", \"d\": \"Endoplasmic Reticulum\"},\\n\"correct\": \"c\"\\n},\\n\"3\": {\\n\"mcq\": \"What is the main function of the citric acid cycle?\",\\n\"options\": {\"a\": \"Convert acetyl-CoA to glucose\", \"b\": \"Produce ATP through oxidative phosphorylation\", \"c\": \"Oxidize acetyl-CoA to carbon dioxide\", \"d\": \"Convert pyruvate to lactate\"},\\n\"correct\": \"c\"\\n},\\n\"4\": {\\n\"mcq\": \"How many ATP molecules are produced in the energy payoff phase of glycolysis?\",\\n\"options\": {\"a\": \"2 ATP\", \"b\": \"4 ATP\", \"c\": \"6 ATP\", \"d\": \"8 ATP\"},\\n\"correct\": \"b\"\\n},\\n\"5\": {\\n\"mcq\": \"What is the net gain of ATP molecules from glycolysis per glucose molecule?\",\\n\"options\": {\"a\": \"0 ATP\", \"b\": \"2 ATP\", \"c\": \"4 ATP\", \"d\": \"6 ATP\"},\\n\"correct\": \"b\"\\n}\\n}'}"
      ]
     },
     "execution_count": 67,
     "metadata": {},
     "output_type": "execute_result"
    }
   ],
   "source": [
    "response"
   ]
  },
  {
   "cell_type": "code",
   "execution_count": 69,
   "metadata": {},
   "outputs": [
    {
     "name": "stdout",
     "output_type": "stream",
     "text": [
      "\n",
      "{\n",
      "\"1\": {\n",
      "\"mcq\": \"Which stage of cellular respiration involves the conversion of glucose into pyruvate?\",\n",
      "\"options\": {\"a\": \"Glycolysis\", \"b\": \"Citric Acid Cycle\", \"c\": \"Oxidative Phosphorylation\", \"d\": \"Krebs Cycle\"},\n",
      "\"correct\": \"a\"\n",
      "},\n",
      "\"2\": {\n",
      "\"mcq\": \"Where does glycolysis take place within the cell?\",\n",
      "\"options\": {\"a\": \"Mitochondria\", \"b\": \"Nucleus\", \"c\": \"Cytoplasm\", \"d\": \"Endoplasmic Reticulum\"},\n",
      "\"correct\": \"c\"\n",
      "},\n",
      "\"3\": {\n",
      "\"mcq\": \"What is the main function of the citric acid cycle?\",\n",
      "\"options\": {\"a\": \"Convert acetyl-CoA to glucose\", \"b\": \"Produce ATP through oxidative phosphorylation\", \"c\": \"Oxidize acetyl-CoA to carbon dioxide\", \"d\": \"Convert pyruvate to lactate\"},\n",
      "\"correct\": \"c\"\n",
      "},\n",
      "\"4\": {\n",
      "\"mcq\": \"How many ATP molecules are produced in the energy payoff phase of glycolysis?\",\n",
      "\"options\": {\"a\": \"2 ATP\", \"b\": \"4 ATP\", \"c\": \"6 ATP\", \"d\": \"8 ATP\"},\n",
      "\"correct\": \"b\"\n",
      "},\n",
      "\"5\": {\n",
      "\"mcq\": \"What is the net gain of ATP molecules from glycolysis per glucose molecule?\",\n",
      "\"options\": {\"a\": \"0 ATP\", \"b\": \"2 ATP\", \"c\": \"4 ATP\", \"d\": \"6 ATP\"},\n",
      "\"correct\": \"b\"\n",
      "}\n",
      "}\n"
     ]
    }
   ],
   "source": [
    "print(response['review'])"
   ]
  },
  {
   "cell_type": "code",
   "execution_count": null,
   "metadata": {},
   "outputs": [],
   "source": []
  }
 ],
 "metadata": {
  "kernelspec": {
   "display_name": "Python 3",
   "language": "python",
   "name": "python3"
  },
  "language_info": {
   "codemirror_mode": {
    "name": "ipython",
    "version": 3
   },
   "file_extension": ".py",
   "mimetype": "text/x-python",
   "name": "python",
   "nbconvert_exporter": "python",
   "pygments_lexer": "ipython3",
   "version": "3.8.19"
  }
 },
 "nbformat": 4,
 "nbformat_minor": 2
}
